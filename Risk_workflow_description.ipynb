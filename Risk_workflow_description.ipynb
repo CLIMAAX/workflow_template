{
 "cells": [
  {
   "cell_type": "markdown",
   "id": "114c11c0-af34-4523-92fb-9a0d62cd518b",
   "metadata": {
    "tags": []
   },
   "source": [
    "# My workflow\n",
    "\n",
    "[![Binder](https://mybinder.org/badge_logo.svg)](https://mybinder.org/v2/gh/CLIMAAX/FIRE/main?labpath=FIRE_notebook.ipynb)\n",
    "\n",
    "This template workflow should help us make sure that all the notebooks have the same structure.  \n",
    "The green 'tip' boxes are there with the example text. **Make sure you delete them when you add your own text**.\n",
    "\n",
    "Useful links:\n",
    "\n",
    "- [Jupyter book documentation](https://jupyterbook.org/en/stable/intro.html)\n",
    "- [MyST Markdown documentation](https://myst-parser.readthedocs.io/en/latest/index.html)"
   ]
  },
  {
   "cell_type": "markdown",
   "id": "2096c862-1b27-4fcf-bfd2-d85c5d3e3b22",
   "metadata": {
    "tags": [],
    "user_expressions": []
   },
   "source": [
    "## Risk assessment methodology\n",
    "\n",
    "Write here a description of the methodology.  \n",
    "\n",
    "Describe the workflow and the data that is used.  \n",
    "\n",
    "Desrcibe where the data can be found, is there an API to download it or the files can be downloaded from some data repository. Provide a link to the repository (as DOI if possible)."
   ]
  },
  {
   "cell_type": "markdown",
   "id": "f4638e58-ddc6-4789-a747-f76f38a7107d",
   "metadata": {
    "tags": [],
    "user_expressions": []
   },
   "source": [
    ":::{tip} This is the example of the text cell with description of the data:\n",
    "\n",
    "- River flood extent and water depth: available from the [JRC repository](https://data.jrc.ec.europa.eu/dataset/1d128b6c-a4ee-4858-9e34-6210707f3c81) for different return periods. Flood extent map of 100m resolution  \n",
    "- Land-use information: The land cover map and all the spatial projections of population and land cover are available from the [JRC Data Catalogue](https://data.jrc.ec.europa.eu/collection/luisa)   \n",
    "- Flood damage: assessed as a combination between flood extent/water depths and damage curve (available [here](https://publications.jrc.ec.europa.eu/repository/handle/JRC105688). For each pixel, the water depths are used as input in the damage curve to assess the damage, together with different land use and country.   \n",
    "- Flood affected population is assessed by overlaying the [European population density map at 100 m resolution](https://doi.org/10.6084/m9.figshare.6210392) with the flood inundation maps for a given return map. Another possible dataset is the [Global Human Settlement Population dataset](https://ghsl.jrc.ec.europa.eu/download.php?ds=pop) which also has 100m resolution as the JRC flood data.  \n",
    "::: "
   ]
  },
  {
   "cell_type": "markdown",
   "id": "a152b2d2-a3c0-4f88-9d1a-eaf19320251c",
   "metadata": {
    "user_expressions": []
   },
   "source": [
    "And a cell with description of the work\n",
    "\n",
    "**Probabilistic assessment of flood damage** is calculated for different return periods (i.e. 2, 5, 10, 20, 50, 100, 250 and 500 years). In this way, damage-probability curves can be obtained at the grid cell by interpolating the damage estimates between the different recurrence intervals considered. The expected annual damages at a given grid cell due to river flooding are thus the integral of the damage-probability curve. Flood protection can be included in the expected annual damages estimation by truncating the damage-probability curves at the corresponding protection level (e.g. design flood with return period of 100 years). The integral of the remaining part after truncation quantifies the expected annual damages and expected annual population affected caused by river flooding considering flood protection up to the design flood.  \n",
    "Similar to flood damages, population exposure probability functions can be derived for each grid cell within the modelled domain.  "
   ]
  },
}
