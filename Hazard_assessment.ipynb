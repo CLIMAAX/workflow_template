{
 "cells": [
  {
   "cell_type": "markdown",
   "id": "114c11c0-af34-4523-92fb-9a0d62cd518b",
   "metadata": {
    "tags": []
   },
   "source": [
    "# Hazard assessment for [flooding]\n",
    "\n",
    "Click [![Binder](https://mybinder.org/badge_logo.svg)](https://mybinder.org/v2/gh/CLIMAAX/FLOODS/main?labpath=Hazard_assessment_FLOOD_COASTAL.ipynb) to open this workflow on Binder.  \n",
    "Click [![Coastal flood](https://img.shields.io/badge/FLOOD-repository-blue)](https://github.com/CLIMAAX/FLOODS) to go to this workflow's GitHub repository."
   ]
  },
  {
   "cell_type": "markdown",
   "id": "1dd026bd",
   "metadata": {},
   "source": [
    "## Hazard assessment methodology\n",
    "\n",
    "Write here a description of how the hazard is calculated (max 500 words).  \n",
    "The idea is that this script can be run by expert users to understand and potentially modify how the hazard map data is calculated for use in the risk toolbox CLIMAAX.  \n",
    "Describe where the data can be found, is there an API to download it or the files can be downloaded from some data repository. Provide a link to the repository (as DOI if possible).\n",
    "\n",
    "Explain the background of the hazard dataset and its limitations & applicability. e.g. resolution, physical processes taken into account, limitations on scale etc."
   ]
  },
  {
   "cell_type": "markdown",
   "id": "5c7f97fe-2578-4ce9-b4c7-1fe40214f045",
   "metadata": {
    "tags": []
   },
   "source": [
    "## Preparation work"
   ]
  },
  {
   "cell_type": "markdown",
   "id": "dd12ce07",
   "metadata": {},
   "source": [
    "### Select area of interest\n",
    "Before downloading the data, we will define the coordinates of the area of interest. Based on these coordinates we will be able to clip the datasets for further processing, and eventually display hazard and damage maps for the selected area.\n",
    "\n",
    "To easily define an area in terms of geographical coordinates, you can go to the [Bounding Box Tool](https://boundingbox.klokantech.com/) to select a region and get the coordinates. Make sure to select 'CSV' in the lower left corner and copy the values in the brackets below. Next to coordinates, please specify a name for the area which will be used in plots and saved results."
   ]
  },
  {
   "cell_type": "code",
   "execution_count": null,
   "id": "de287df3",
   "metadata": {},
   "outputs": [],
   "source": [
    "## name the area for saving datasets and plots\n",
    "bbox = [-1.6,46,-1.05,46.4]; areaname = 'La_Rochelle' # specify the coordinates of the bounding box"
   ]
  },
  {
   "cell_type": "markdown",
   "id": "a6453335",
   "metadata": {},
   "source": [
    "### Load libraries\n",
    "`````{admonition} Find more info about the libraries used in this workflow here \n",
    ":class: hint dropdown\n",
    "In this notebook we will use the following Python libraries:\n",
    "- [os](https://docs.python.org/3/library/os.html) - To create directories and work with files\n",
    "- [pooch](https://www.fatiando.org/pooch/latest/index.html) - To download and unzip the data\n",
    "- [rasterio](https://rasterio.readthedocs.io/en/stable/) - To access and explore geospatial raster data in GeoTIFF format\n",
    "- [xarray](https://docs.xarray.dev/en/stable/) - To process the data and prepare it for damage calculation\n",
    "- [rioxarray](https://corteva.github.io/rioxarray/stable/) - Rasterio xarray extension - to make it easier to use GeoTIFF data with xarray\n",
    "- [cartopy](https://scitools.org.uk/cartopy/docs/latest/) - To plot the maps\n",
    "- [matplotlib](https://matplotlib.org/) - For plotting as well\n",
    "`````"
   ]
  },
  {
   "cell_type": "code",
   "execution_count": 10,
   "id": "79e25ef6-9a3b-4d42-a2b5-d787c2b70878",
   "metadata": {},
   "outputs": [],
   "source": [
    "import os\n",
    "import pooch\n",
    "\n",
    "import rasterio\n",
    "from pathlib import Path\n",
    "import rioxarray as rxr\n",
    "import xarray as xr\n",
    "\n",
    "import matplotlib.pyplot as plt\n",
    "import cartopy.crs as ccrs\n",
    "import cartopy.feature as cfeature\n",
    "import cartopy"
   ]
  },
  {
   "cell_type": "markdown",
   "id": "81faf965-390d-4da5-afc4-eb46a3c1feaa",
   "metadata": {
    "tags": [],
    "user_expressions": []
   },
   "source": [
    "### Create the directory structure\n",
    "In order for this workflow to work even if you download and use just this notebook, we need to set up the directory structure.  \n",
    "Next cell will create the directory called 'my_workflow' in the same directory where this notebook is saved.\n",
    "\n",
    "\n",
    ":::{tip} Don't forget!\n",
    "Replace **my_workflow** with the workflow name and delete this note\n",
    ":::\n"
   ]
  },
  {
   "cell_type": "code",
   "execution_count": 2,
   "id": "262714f0-48e3-451c-a1c3-186a056f3286",
   "metadata": {},
   "outputs": [],
   "source": [
    "workflow_folder = 'my_workflow'\n",
    "if not os.path.exists(workflow_folder):\n",
    "    os.makedirs(workflow_folder)\n",
    "\n",
    "# Define directories for data and plots within the previously defined workflow folder\n",
    "data_dir = os.path.join(workflow_folder, f'data_{areaname}')\n",
    "plot_dir = os.path.join(workflow_folder, f'plots_{areaname}')\n",
    "\n",
    "if not os.path.exists(data_dir):\n",
    "    os.makedirs(data_dir)\n",
    "if not os.path.exists(plot_dir):\n",
    "    os.makedirs(plot_dir)"
   ]
  },
  {
   "cell_type": "markdown",
   "id": "62fc175d-16ed-44c5-b868-4aa434e92292",
   "metadata": {
    "tags": [],
    "user_expressions": []
   },
   "source": [
    "### Access and view dataset\n",
    "\n",
    "**You can keep the text below if you want to use pooch for downloading. Otherwise add a text about the API and delete the pooch bit.**\n",
    "\n",
    "The data we are using is available as compressed ZIP files in the JRC data portal. \n",
    "Since there is no API to download this data, we can use **[pooch](https://www.fatiando.org/pooch/latest/index.html)** library to donwload and unzip the data.  \n",
    "\n",
    "Pooch will check if the zip file already exists by comparing the hash of the file with what is stored in the default and only download it if it is not already there."
   ]
  },
  {
   "cell_type": "markdown",
   "id": "b57d8c85-f9b7-4cb6-8d48-4c82f0c8d785",
   "metadata": {
    "tags": [],
    "user_expressions": []
   },
   "source": [
    "#### First type of data\n",
    "First we need the information on land use. We will download it from the JRC data portal.\n",
    ":::{tip} Here's an example of the text and code\n",
    "Once the data is downloaded and unzipped, Pooch will list the content of the directory with the data.\n",
    "\n",
    "```python\n",
    "url = 'https://cidportal.jrc.ec.europa.eu/ftp/jrc-opendata/LUISA/PrimaryOutput/Europe/REF-2014/JRC_LUISA_Output_land_use_ref_2014.zip'\n",
    "pooch.retrieve(\n",
    "    url=url,\n",
    "    known_hash=None,\n",
    "    path=data_dir,\n",
    "    processor=pooch.Unzip(extract_dir='')\n",
    ")\n",
    "```\n",
    "\n",
    ":::"
   ]
  },
  {
   "cell_type": "markdown",
   "id": "81918667-f0e0-4302-aad5-640d086df490",
   "metadata": {
    "tags": [],
    "toc-hr-collapsed": true,
    "user_expressions": []
   },
   "source": [
    "## Explore the data\n",
    "Now that we have downloaded and unpacked the needed data, we can have a look what is inside.  "
   ]
  },
  {
   "cell_type": "markdown",
   "id": "4aa0611e-2798-44f2-a789-ccafa546d9c9",
   "metadata": {
    "tags": [],
    "user_expressions": []
   },
   "source": [
    "### Some data I\n",
    "Add text about your data here.\n",
    "\n",
    "Explain the folder structure and file names.\n",
    "\n",
    "All the downloaded files are stored in our **data_dir** folder, with filenames starting with: ...  \n",
    "First we can explore one of them."
   ]
  },
  {
   "cell_type": "markdown",
   "id": "6f7fa049-8c2f-41e0-a73e-bb691bc27c5b",
   "metadata": {
    "tags": [],
    "user_expressions": []
   },
   "source": [
    ":::{tip} Explore the file content\n",
    "Fell free to explore the content and structure of the datasets.  \n",
    "Note the coordinates, dimensions and attributes!\n",
    ":::\n",
    "\n",
    ":::{hint} Find the information about spatial references, statistics👆 (click)\n",
    ":class: dropdown\n",
    "👋 Click on **spatial_ref** 📄 _show/hide attributes_ to see the spatial information  \n",
    "👋 Look at _STATISTICS_ attributes to find minimum, maximum and other statistics\n",
    "\n",
    ":::"
   ]
  },
  {
   "cell_type": "code",
   "execution_count": 2,
   "id": "942cb714-4bd8-49a3-a83e-4f331cdd419d",
   "metadata": {},
   "outputs": [],
   "source": [
    "# code here to open and show the data"
   ]
  },
  {
   "cell_type": "markdown",
   "id": "185ece4e-e965-4ba4-9de7-5a2e31c93b8b",
   "metadata": {
    "tags": [],
    "user_expressions": []
   },
   "source": [
    "### Some data II\n",
    "Add text about other dataset you are using here.  \n",
    "\n",
    "If there are more files in the directory, you can list the directory and explain what is what."
   ]
  },
  {
   "cell_type": "code",
   "execution_count": null,
   "id": "8cb4b52d-30a4-451e-9924-0625465337d4",
   "metadata": {},
   "outputs": [],
   "source": [
    "#with os.scandir(f'{data_dir}/other_data') as entries:\n",
    "#    for entry in entries:\n",
    "#        print(entry.name)"
   ]
  },
  {
   "cell_type": "markdown",
   "id": "601084bb-760d-4007-ac4c-b88c204b9b20",
   "metadata": {
    "tags": [],
    "user_expressions": []
   },
   "source": [
    "Let's explore one of the dataset files, for example this one...  \n",
    "Write which library is used, especially if it is different from other datasets."
   ]
  },
  {
   "cell_type": "code",
   "execution_count": 3,
   "id": "a62471b9-d92d-43d6-949e-c1a40410e164",
   "metadata": {},
   "outputs": [],
   "source": [
    "# code here to open and show the data"
   ]
  },
  {
   "cell_type": "markdown",
   "id": "d96e4348-a93c-431c-956a-d930e7bc449d",
   "metadata": {
    "tags": [],
    "toc-hr-collapsed": true,
    "user_expressions": []
   },
   "source": [
    "## Process the data\n",
    "\n",
    "Explain why the processing is needed. For example:\n",
    "- if the data is global, we might need to crop all the datasets to the area of interest, set the coordinates of the bounding box in a separate cell\n",
    "- if datasets have different resolution and projection we need to reproject one of them and interpolate to the same resolution in order to be able to do computations.\n",
    "- try to use areas of one of the pilots in the examples\n",
    "\n",
    "Explain which libraries are used in this step and why."
   ]
  },
  {
   "cell_type": "markdown",
   "id": "e5fc0632-2f92-4fdb-8849-9a489a691b8e",
   "metadata": {
    "tags": [],
    "user_expressions": []
   },
   "source": [
    ":::{tip} Here's an example text:\n",
    "\n",
    "If we have a closer look at the x and y dimensions of the datasets, we can see that the data has different resolutions. Flood extent maps are at 100 m resolution, while land use data is at 1km. We can use xarray to get them to the same resolution.  \n",
    "\n",
    "But first we need to clip them to the same area, so we don't interpolate the whole global field.   \n",
    "\n",
    "For this we use the rioxarray library again.  \n",
    "**minx** and **maxx** are longitudes, and **miny** and **maxy** are latitudes of the bounding box.  \n",
    "\n",
    "In this example we are clipping the bounding box around city of Zilina in Slovakia.\n",
    ":::"
   ]
  },
  {
   "cell_type": "code",
   "execution_count": 6,
   "id": "1a4d73c4-eae4-4cf2-807d-13c85f670363",
   "metadata": {},
   "outputs": [],
   "source": [
    "xmin=18\n",
    "ymin=48\n",
    "xmax=20\n",
    "ymax=50"
   ]
  },
  {
   "cell_type": "code",
   "execution_count": 4,
   "id": "8a905e17-88a4-474a-9f40-981564a7cfae",
   "metadata": {},
   "outputs": [],
   "source": [
    "# code cell with processing"
   ]
  },
  {
   "cell_type": "markdown",
   "id": "4bcc921a-28af-48d5-b792-f90ccd801113",
   "metadata": {
    "user_expressions": []
   },
   "source": [
    "#### Explanation of the processing step I\n",
    "\n",
    "Explain the processing step, what library is used and why.  \n",
    "Try to include links to the documentation about the functions you are using."
   ]
  },
  {
   "cell_type": "code",
   "execution_count": 5,
   "id": "956c7306-7f47-400e-b707-c053a5c5c458",
   "metadata": {},
   "outputs": [],
   "source": [
    "# code cell with processing, for example:\n",
    "#flood_200_small_area_1km  = flood_200_small_area.interp_like(land_use_small_area, method='nearest')\n",
    "#flood_200_small_area_1km"
   ]
  },
  {
   "cell_type": "markdown",
   "id": "c856232e-cfdf-4bb8-a6ce-dd6510d30667",
   "metadata": {
    "tags": [],
    "user_expressions": []
   },
   "source": [
    "You may include a simple plot to quickly visualise the result. But make sure to explain what is plotted"
   ]
  },
  {
   "cell_type": "code",
   "execution_count": 6,
   "id": "0fec3a73-0c2b-4348-b7e6-332587ac8b4f",
   "metadata": {},
   "outputs": [],
   "source": [
    "#flood_200_small_area_1km.plot()"
   ]
  },
  {
   "cell_type": "markdown",
   "id": "2570993d-88cf-4eea-92fe-15bb39b2904d",
   "metadata": {
    "user_expressions": []
   },
   "source": [
    "## Visualize the hazard data"
   ]
  },
  {
   "cell_type": "code",
   "execution_count": 7,
   "id": "b5f57bf2-7560-4996-aca6-404aa29d4fec",
   "metadata": {},
   "outputs": [],
   "source": [
    "# another code cell"
   ]
  },
  {
   "cell_type": "markdown",
   "id": "bacf2ab2",
   "metadata": {},
   "source": [
    "## Save dataset to a local directory for future access\n",
    "Now that we have loaded the full dataset, we will save it to a local folder to be able to easily access it later. There are two options for saving the dataset: as a single netCDF file containing all scenarios, and as separate raster files (**.tif** format)."
   ]
  },
  {
   "cell_type": "markdown",
   "id": "9f46b740",
   "metadata": {},
   "source": [
    "{Save to data_dir}"
   ]
  },
  {
   "cell_type": "markdown",
   "id": "9894fe05-7206-4468-9441-6d974a1a2e27",
   "metadata": {},
   "source": [
    "## Conclusions\n",
    "\n",
    "Some text about conclusions and lessons learned"
   ]
  },
  {
   "cell_type": "markdown",
   "id": "58a12200-0053-4e52-945e-844b6ad72543",
   "metadata": {},
   "source": [
    "## Contributors\n",
    "authors, links to libraries documentation, references etc"
   ]
  }
 ],
 "metadata": {
  "kernelspec": {
   "display_name": "climaax",
   "language": "python",
   "name": "climaax"
  },
  "language_info": {
   "codemirror_mode": {
    "name": "ipython",
    "version": 3
   },
   "file_extension": ".py",
   "mimetype": "text/x-python",
   "name": "python",
   "nbconvert_exporter": "python",
   "pygments_lexer": "ipython3",
   "version": "3.11.3"
  }
 },
 "nbformat": 4,
 "nbformat_minor": 5
}
